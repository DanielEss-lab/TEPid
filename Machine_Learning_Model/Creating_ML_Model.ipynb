{
  "nbformat": 4,
  "nbformat_minor": 0,
  "metadata": {
    "colab": {
      "provenance": [],
      "collapsed_sections": [
        "hdAAAkMpoZbC"
      ]
    },
    "kernelspec": {
      "name": "python3",
      "display_name": "Python 3"
    },
    "language_info": {
      "name": "python"
    }
  },
  "cells": [
    {
      "cell_type": "markdown",
      "source": [
        "# ***Importing features and reading in data***"
      ],
      "metadata": {
        "id": "hdAAAkMpoZbC"
      }
    },
    {
      "cell_type": "code",
      "source": [
        "!pip install rdkit-pypi --quiet\n",
        "#!pip install mordred --quiet\n",
        "!pip install lazypredict --quiet\n",
        "!pip install sklearn-json --quiet\n",
        "!pip install shap --quiet\n",
        "!pip install optuna --quiet"
      ],
      "metadata": {
        "id": "vQ4GqIkQJwDJ",
        "colab": {
          "base_uri": "https://localhost:8080/"
        },
        "outputId": "fc0127f7-1ceb-40be-c21a-e84ea4d3c268"
      },
      "execution_count": null,
      "outputs": [
        {
          "output_type": "stream",
          "name": "stdout",
          "text": [
            "\u001b[2K     \u001b[90m━━━━━━━━━━━━━━━━━━━━━━━━━━━━━━━━━━━━━━━━\u001b[0m \u001b[32m29.4/29.4 MB\u001b[0m \u001b[31m66.5 MB/s\u001b[0m eta \u001b[36m0:00:00\u001b[0m\n",
            "\u001b[2K     \u001b[90m━━━━━━━━━━━━━━━━━━━━━━━━━━━━━━━━━━━━━━━\u001b[0m \u001b[32m547.9/547.9 kB\u001b[0m \u001b[31m9.6 MB/s\u001b[0m eta \u001b[36m0:00:00\u001b[0m\n",
            "\u001b[2K     \u001b[90m━━━━━━━━━━━━━━━━━━━━━━━━━━━━━━━━━━━━━━━\u001b[0m \u001b[32m404.2/404.2 kB\u001b[0m \u001b[31m7.1 MB/s\u001b[0m eta \u001b[36m0:00:00\u001b[0m\n",
            "\u001b[2K     \u001b[90m━━━━━━━━━━━━━━━━━━━━━━━━━━━━━━━━━━━━━━\u001b[0m \u001b[32m226.0/226.0 kB\u001b[0m \u001b[31m23.6 MB/s\u001b[0m eta \u001b[36m0:00:00\u001b[0m\n",
            "\u001b[2K     \u001b[90m━━━━━━━━━━━━━━━━━━━━━━━━━━━━━━━━━━━━━━━━\u001b[0m \u001b[32m78.7/78.7 kB\u001b[0m \u001b[31m9.0 MB/s\u001b[0m eta \u001b[36m0:00:00\u001b[0m\n",
            "\u001b[?25h"
          ]
        }
      ]
    },
    {
      "cell_type": "code",
      "execution_count": null,
      "metadata": {
        "id": "EgJllE5kpiWW",
        "colab": {
          "base_uri": "https://localhost:8080/"
        },
        "outputId": "2aa2a6d9-6402-4d08-a462-b9d78a9113b8"
      },
      "outputs": [
        {
          "output_type": "stream",
          "name": "stderr",
          "text": [
            "Using `tqdm.autonotebook.tqdm` in notebook mode. Use `tqdm.tqdm` instead to force console mode (e.g. in jupyter console)\n"
          ]
        }
      ],
      "source": [
        "from rdkit.Chem import AllChem, Descriptors, PandasTools, rdMolDescriptors, Draw\n",
        "from rdkit import Chem\n",
        "from rdkit.ML.Descriptors import MoleculeDescriptors\n",
        "from tqdm import tqdm\n",
        "#--------------------------------------------\n",
        "import pandas as pd\n",
        "import numpy as np\n",
        "import scipy\n",
        "import matplotlib\n",
        "import matplotlib.pyplot as plt\n",
        "import matplotlib.patches as mpatches\n",
        "import seaborn as sns\n",
        "import shap\n",
        "#--------------------------------------------\n",
        "from sklearn.metrics import r2_score, mean_absolute_error, mean_squared_error\n",
        "from sklearn.model_selection import ShuffleSplit, cross_validate, train_test_split, KFold, cross_val_score, learning_curve\n",
        "from sklearn.preprocessing import StandardScaler, MinMaxScaler\n",
        "from sklearn.inspection import permutation_importance\n",
        "from lazypredict.Supervised import LazyRegressor\n",
        "from lightgbm import LGBMRegressor\n",
        "#--------------------------------------------\n",
        "import optuna\n",
        "\n",
        "sns.set_theme(style=\"ticks\")\n",
        "\n",
        "%matplotlib inline\n",
        "\n",
        "import warnings\n",
        "import time\n",
        "\n",
        "warnings.filterwarnings('ignore')\n",
        "warnings.filterwarnings(action='ignore',category=DeprecationWarning)\n",
        "warnings.filterwarnings(action='ignore',category=FutureWarning)"
      ]
    },
    {
      "cell_type": "code",
      "source": [
        "seed =12\n",
        "\n",
        "# Defining useful functions\n",
        "\n",
        "def rmse(predictions, targets):\n",
        "    return np.sqrt(((predictions - targets)**2).mean())\n",
        "\n",
        "def test_learner(X, y, model):\n",
        "    kf = KFold(n_splits=5, random_state=seed, shuffle=True)\n",
        "    #X = X.values\n",
        "    kf.get_n_splits(X)\n",
        "\n",
        "    errorlist = []\n",
        "    train_err = []\n",
        "    corr_vals = []\n",
        "    train_corr = []\n",
        "    for train_idx, test_idx in kf.split(X):\n",
        "        X_train, X_test = X.iloc[train_idx], X.iloc[test_idx]\n",
        "        y_train, y_test = y.iloc[train_idx], y.iloc[test_idx]\n",
        "\n",
        "        model.fit(X_train, y_train)\n",
        "\n",
        "        error = rmse(model.predict(X_test), y_test)\n",
        "        training_error = rmse(model.predict(X_train), y_train)\n",
        "\n",
        "        _, _, r_value, _, _ = scipy.stats.linregress(y_train, model.predict(X_train))\n",
        "        r2_train = r_value**2\n",
        "\n",
        "        _, _, r_value, _, _ = scipy.stats.linregress(y_test, model.predict(X_test))\n",
        "        r2_test = r_value**2\n",
        "\n",
        "        errorlist.append(error)\n",
        "        train_err.append(training_error)\n",
        "\n",
        "        corr_vals.append(r2_test)\n",
        "        train_corr.append(r2_train)\n",
        "\n",
        "    print(f'Final Train RMSE: {np.mean(train_err)} +/- {np.std(train_err)}')\n",
        "    print(f'Final Train R^2: {np.mean(train_corr)} +/- {np.std(train_corr)}')\n",
        "    print(f'Final Val RMSE: {np.mean(errorlist)} +/- {np.std(errorlist)}')\n",
        "    print(f'Final Val R^2: {np.mean(corr_vals)} +/- {np.std(corr_vals)}')\n",
        "\n",
        "def test_learner_np(X, y, model):\n",
        "    kf = KFold(n_splits=5, random_state=seed, shuffle=True)\n",
        "    X = X.values\n",
        "    kf.get_n_splits(X)\n",
        "\n",
        "    errorlist = []\n",
        "    train_err = []\n",
        "    corr_vals = []\n",
        "    train_corr = []\n",
        "    for train_idx, test_idx in kf.split(X):\n",
        "        X_train, X_test = X[train_idx], X[test_idx]\n",
        "        y_train, y_test = y[train_idx], y[test_idx]\n",
        "\n",
        "        model.fit(X_train, y_train)\n",
        "\n",
        "        error = rmse(model.predict(X_test), y_test)\n",
        "        training_error = rmse(model.predict(X_train), y_train)\n",
        "\n",
        "        _, _, r_value, _, _ = scipy.stats.linregress(y_train, model.predict(X_train))\n",
        "        r2_train = r_value**2\n",
        "\n",
        "        _, _, r_value, _, _ = scipy.stats.linregress(y_test, model.predict(X_test))\n",
        "        r2_test = r_value**2\n",
        "\n",
        "        errorlist.append(error)\n",
        "        train_err.append(training_error)\n",
        "\n",
        "        corr_vals.append(r2_test)\n",
        "        train_corr.append(r2_train)\n",
        "\n",
        "    print(f'Final Train RMSE: {np.mean(train_err)} +/- {np.std(train_err)}')\n",
        "    print(f'Final Train R^2: {np.mean(train_corr)} +/- {np.std(train_corr)}')\n",
        "    print(f'Final Val RMSE: {np.mean(errorlist)} +/- {np.std(errorlist)}')\n",
        "    print(f'Final Val R^2: {np.mean(corr_vals)} +/- {np.std(corr_vals)}')\n",
        "\n",
        "def canonical_smiles(smiles):\n",
        "  mols = [Chem.MolFromSmiles(smi) for smi in smiles]\n",
        "  smiles = [Chem.MolToSmiles(mol) for mol in mols]\n",
        "  return smiles\n",
        "\n",
        "def RDkit_descriptors(smiles):\n",
        "  mols = [Chem.MolFromSmiles(i) for i in smiles]\n",
        "  calc = MoleculeDescriptors.MolecularDescriptorCalculator([x[0] for x in Descriptors._descList])\n",
        "  desc_names = calc.GetDescriptorNames()\n",
        "\n",
        "  Mol_descriptors = list()\n",
        "  for mol in mols:\n",
        "    mol = Chem.AddHs(mol)\n",
        "    descriptors = calc.CalcDescriptors(mol)\n",
        "    Mol_descriptors.append(descriptors)\n",
        "  return Mol_descriptors,desc_names\n",
        "\n",
        "def remove_correlated_features(descriptors):\n",
        "    # Calculate correlation\n",
        "    correlated_matrix = descriptors.corr().abs()\n",
        "\n",
        "    # Upper triangle of correlation matrix\n",
        "    upper_triangle = correlated_matrix.where(np.triu(np.ones(correlated_matrix.shape),k=1).astype(np.bool))\n",
        "\n",
        "    # Identify columns that have above 0.9 values of correlation\n",
        "    to_drop = [column for column in upper_triangle.columns if any(upper_triangle[column] >= 0.9)]\n",
        "    print(to_drop)\n",
        "    descriptors_correlated_dropped = descriptors.drop(columns=to_drop, axis=1)\n",
        "    return descriptors_correlated_dropped\n",
        "\n",
        "def plotter(model, X_train, y_train, X_test, y_test):\n",
        "  fig, ax = plt.subplots()\n",
        "  ax.scatter(y_train, model.predict(np.array(X_train)), color=\"#008080\")\n",
        "  ax.scatter(y_test, model.predict(np.array(X_test)), color=\"#FF7F50\")\n",
        "\n",
        "  lims = [\n",
        "      np.min([ax.get_xlim(), ax.get_ylim()]),  # min of both axes\n",
        "      np.max([ax.get_xlim(), ax.get_ylim()]),  # max of both axes\n",
        "  ]\n",
        "\n",
        "  _, _, r_value, _, _ = scipy.stats.linregress(y_train, model.predict(X_train))\n",
        "  r2_train = r_value**2\n",
        "\n",
        "  _, _, r_value, _, _ = scipy.stats.linregress(y_test, model.predict(X_test))\n",
        "  r2_test = r_value**2\n",
        "\n",
        "  plt.annotate(f\"Training R$^2$ = {r2_train:.3f}\", (2050, 2110))\n",
        "  plt.annotate(f\"Testing R$^2$ = {r2_test:.3f}\", (2050, 2105))\n",
        "\n",
        "  # now plot both limits against eachother\n",
        "  ax.plot(lims, lims, 'k-', alpha=0.75, zorder=0)\n",
        "  ax.set_aspect('equal')\n",
        "  ax.set_xlim(lims)\n",
        "  ax.set_ylim(lims)\n",
        "  ax.set_xlabel(\"DFT TEP (cm$^{-1}$)\")\n",
        "  ax.set_ylabel(\"Predicted TEP (cm$^{-1}$)\")\n",
        "\n",
        "  print(f\"Training MAE: {mean_absolute_error(y_train, model.predict(X_train)):.02f} cm^-1\")\n",
        "  print(f\"Testing MAE: {mean_absolute_error(y_test, model.predict(X_test)):.02f} cm^-1\")\n",
        "  print(f\"Training RMSE: {rmse(y_train, model.predict(X_train)):.02f} cm^-1\")\n",
        "  print(f\"Testing RMSE: {rmse(y_test, model.predict(X_test)):.02f} cm^-1\")\n",
        "  print(f\"MAE / Range(test) = {(mean_absolute_error(y_test, model.predict(X_test)) *100 / (max(y_train)-min(y_train))):.02f}%\")\n",
        "  print(f\"RMSE / Range(test) = {(rmse(y_test, model.predict(X_test)) *100 / (max(y_train)-min(y_train))):.02f}%\")\n",
        "  plt.show()"
      ],
      "metadata": {
        "id": "iKNPVIUGppix"
      },
      "execution_count": null,
      "outputs": []
    },
    {
      "cell_type": "code",
      "source": [
        "# Reading in the CSV with the quantum chemical descriptors\n",
        "\n",
        "df = pd.read_excel('_20230712-TEPid.xlsx', sheet_name='DATA')\n",
        "\n",
        "y = df['TEPcorr']\n",
        "\n",
        "functionalizations = df.iloc[:,3:].values\n",
        "\n",
        "alphabetical = list()\n",
        "\n",
        "for i in functionalizations:\n",
        "  sortedlist = sorted(i)\n",
        "  alphabetical.append(sortedlist)\n",
        "\n",
        "#alphabetical = sorted(alphabetical)\n",
        "\n",
        "unique = list()\n",
        "unique_df = pd.DataFrame()\n",
        "\n",
        "for i in alphabetical:\n",
        "  if i in unique:\n",
        "    pass\n",
        "  else:\n",
        "    unique.append(i)\n",
        "    # unique_df.loc[i] = df.loc[i]\n",
        "\n",
        "functionalizations = pd.DataFrame(unique, columns=['R1', 'R2', 'R3'])\n",
        "\n",
        "functionalizations = functionalizations.sort_values(['R1', 'R2', 'R3'], ascending=(False, False, False))\n",
        "functionalizations.head()"
      ],
      "metadata": {
        "id": "8mTmvXOaqHis",
        "colab": {
          "base_uri": "https://localhost:8080/",
          "height": 417
        },
        "outputId": "8ae7de4f-6026-44f9-93ca-3882ea66a643"
      },
      "execution_count": null,
      "outputs": [
        {
          "output_type": "error",
          "ename": "FileNotFoundError",
          "evalue": "ignored",
          "traceback": [
            "\u001b[0;31m---------------------------------------------------------------------------\u001b[0m",
            "\u001b[0;31mFileNotFoundError\u001b[0m                         Traceback (most recent call last)",
            "\u001b[0;32m<ipython-input-4-e43cad622bed>\u001b[0m in \u001b[0;36m<cell line: 3>\u001b[0;34m()\u001b[0m\n\u001b[1;32m      1\u001b[0m \u001b[0;31m# Reading in the CSV with the quantum chemical descriptors\u001b[0m\u001b[0;34m\u001b[0m\u001b[0;34m\u001b[0m\u001b[0m\n\u001b[1;32m      2\u001b[0m \u001b[0;34m\u001b[0m\u001b[0m\n\u001b[0;32m----> 3\u001b[0;31m \u001b[0mdf\u001b[0m \u001b[0;34m=\u001b[0m \u001b[0mpd\u001b[0m\u001b[0;34m.\u001b[0m\u001b[0mread_excel\u001b[0m\u001b[0;34m(\u001b[0m\u001b[0;34m'_20230712-TEPid.xlsx'\u001b[0m\u001b[0;34m,\u001b[0m \u001b[0msheet_name\u001b[0m\u001b[0;34m=\u001b[0m\u001b[0;34m'DATA'\u001b[0m\u001b[0;34m)\u001b[0m\u001b[0;34m\u001b[0m\u001b[0;34m\u001b[0m\u001b[0m\n\u001b[0m\u001b[1;32m      4\u001b[0m \u001b[0;34m\u001b[0m\u001b[0m\n\u001b[1;32m      5\u001b[0m \u001b[0my\u001b[0m \u001b[0;34m=\u001b[0m \u001b[0mdf\u001b[0m\u001b[0;34m[\u001b[0m\u001b[0;34m'TEPcorr'\u001b[0m\u001b[0;34m]\u001b[0m\u001b[0;34m\u001b[0m\u001b[0;34m\u001b[0m\u001b[0m\n",
            "\u001b[0;32m/usr/local/lib/python3.10/dist-packages/pandas/util/_decorators.py\u001b[0m in \u001b[0;36mwrapper\u001b[0;34m(*args, **kwargs)\u001b[0m\n\u001b[1;32m    209\u001b[0m                 \u001b[0;32melse\u001b[0m\u001b[0;34m:\u001b[0m\u001b[0;34m\u001b[0m\u001b[0;34m\u001b[0m\u001b[0m\n\u001b[1;32m    210\u001b[0m                     \u001b[0mkwargs\u001b[0m\u001b[0;34m[\u001b[0m\u001b[0mnew_arg_name\u001b[0m\u001b[0;34m]\u001b[0m \u001b[0;34m=\u001b[0m \u001b[0mnew_arg_value\u001b[0m\u001b[0;34m\u001b[0m\u001b[0;34m\u001b[0m\u001b[0m\n\u001b[0;32m--> 211\u001b[0;31m             \u001b[0;32mreturn\u001b[0m \u001b[0mfunc\u001b[0m\u001b[0;34m(\u001b[0m\u001b[0;34m*\u001b[0m\u001b[0margs\u001b[0m\u001b[0;34m,\u001b[0m \u001b[0;34m**\u001b[0m\u001b[0mkwargs\u001b[0m\u001b[0;34m)\u001b[0m\u001b[0;34m\u001b[0m\u001b[0;34m\u001b[0m\u001b[0m\n\u001b[0m\u001b[1;32m    212\u001b[0m \u001b[0;34m\u001b[0m\u001b[0m\n\u001b[1;32m    213\u001b[0m         \u001b[0;32mreturn\u001b[0m \u001b[0mcast\u001b[0m\u001b[0;34m(\u001b[0m\u001b[0mF\u001b[0m\u001b[0;34m,\u001b[0m \u001b[0mwrapper\u001b[0m\u001b[0;34m)\u001b[0m\u001b[0;34m\u001b[0m\u001b[0;34m\u001b[0m\u001b[0m\n",
            "\u001b[0;32m/usr/local/lib/python3.10/dist-packages/pandas/util/_decorators.py\u001b[0m in \u001b[0;36mwrapper\u001b[0;34m(*args, **kwargs)\u001b[0m\n\u001b[1;32m    329\u001b[0m                     \u001b[0mstacklevel\u001b[0m\u001b[0;34m=\u001b[0m\u001b[0mfind_stack_level\u001b[0m\u001b[0;34m(\u001b[0m\u001b[0;34m)\u001b[0m\u001b[0;34m,\u001b[0m\u001b[0;34m\u001b[0m\u001b[0;34m\u001b[0m\u001b[0m\n\u001b[1;32m    330\u001b[0m                 )\n\u001b[0;32m--> 331\u001b[0;31m             \u001b[0;32mreturn\u001b[0m \u001b[0mfunc\u001b[0m\u001b[0;34m(\u001b[0m\u001b[0;34m*\u001b[0m\u001b[0margs\u001b[0m\u001b[0;34m,\u001b[0m \u001b[0;34m**\u001b[0m\u001b[0mkwargs\u001b[0m\u001b[0;34m)\u001b[0m\u001b[0;34m\u001b[0m\u001b[0;34m\u001b[0m\u001b[0m\n\u001b[0m\u001b[1;32m    332\u001b[0m \u001b[0;34m\u001b[0m\u001b[0m\n\u001b[1;32m    333\u001b[0m         \u001b[0;31m# error: \"Callable[[VarArg(Any), KwArg(Any)], Any]\" has no\u001b[0m\u001b[0;34m\u001b[0m\u001b[0;34m\u001b[0m\u001b[0m\n",
            "\u001b[0;32m/usr/local/lib/python3.10/dist-packages/pandas/io/excel/_base.py\u001b[0m in \u001b[0;36mread_excel\u001b[0;34m(io, sheet_name, header, names, index_col, usecols, squeeze, dtype, engine, converters, true_values, false_values, skiprows, nrows, na_values, keep_default_na, na_filter, verbose, parse_dates, date_parser, thousands, decimal, comment, skipfooter, convert_float, mangle_dupe_cols, storage_options)\u001b[0m\n\u001b[1;32m    480\u001b[0m     \u001b[0;32mif\u001b[0m \u001b[0;32mnot\u001b[0m \u001b[0misinstance\u001b[0m\u001b[0;34m(\u001b[0m\u001b[0mio\u001b[0m\u001b[0;34m,\u001b[0m \u001b[0mExcelFile\u001b[0m\u001b[0;34m)\u001b[0m\u001b[0;34m:\u001b[0m\u001b[0;34m\u001b[0m\u001b[0;34m\u001b[0m\u001b[0m\n\u001b[1;32m    481\u001b[0m         \u001b[0mshould_close\u001b[0m \u001b[0;34m=\u001b[0m \u001b[0;32mTrue\u001b[0m\u001b[0;34m\u001b[0m\u001b[0;34m\u001b[0m\u001b[0m\n\u001b[0;32m--> 482\u001b[0;31m         \u001b[0mio\u001b[0m \u001b[0;34m=\u001b[0m \u001b[0mExcelFile\u001b[0m\u001b[0;34m(\u001b[0m\u001b[0mio\u001b[0m\u001b[0;34m,\u001b[0m \u001b[0mstorage_options\u001b[0m\u001b[0;34m=\u001b[0m\u001b[0mstorage_options\u001b[0m\u001b[0;34m,\u001b[0m \u001b[0mengine\u001b[0m\u001b[0;34m=\u001b[0m\u001b[0mengine\u001b[0m\u001b[0;34m)\u001b[0m\u001b[0;34m\u001b[0m\u001b[0;34m\u001b[0m\u001b[0m\n\u001b[0m\u001b[1;32m    483\u001b[0m     \u001b[0;32melif\u001b[0m \u001b[0mengine\u001b[0m \u001b[0;32mand\u001b[0m \u001b[0mengine\u001b[0m \u001b[0;34m!=\u001b[0m \u001b[0mio\u001b[0m\u001b[0;34m.\u001b[0m\u001b[0mengine\u001b[0m\u001b[0;34m:\u001b[0m\u001b[0;34m\u001b[0m\u001b[0;34m\u001b[0m\u001b[0m\n\u001b[1;32m    484\u001b[0m         raise ValueError(\n",
            "\u001b[0;32m/usr/local/lib/python3.10/dist-packages/pandas/io/excel/_base.py\u001b[0m in \u001b[0;36m__init__\u001b[0;34m(self, path_or_buffer, engine, storage_options)\u001b[0m\n\u001b[1;32m   1650\u001b[0m                 \u001b[0mext\u001b[0m \u001b[0;34m=\u001b[0m \u001b[0;34m\"xls\"\u001b[0m\u001b[0;34m\u001b[0m\u001b[0;34m\u001b[0m\u001b[0m\n\u001b[1;32m   1651\u001b[0m             \u001b[0;32melse\u001b[0m\u001b[0;34m:\u001b[0m\u001b[0;34m\u001b[0m\u001b[0;34m\u001b[0m\u001b[0m\n\u001b[0;32m-> 1652\u001b[0;31m                 ext = inspect_excel_format(\n\u001b[0m\u001b[1;32m   1653\u001b[0m                     \u001b[0mcontent_or_path\u001b[0m\u001b[0;34m=\u001b[0m\u001b[0mpath_or_buffer\u001b[0m\u001b[0;34m,\u001b[0m \u001b[0mstorage_options\u001b[0m\u001b[0;34m=\u001b[0m\u001b[0mstorage_options\u001b[0m\u001b[0;34m\u001b[0m\u001b[0;34m\u001b[0m\u001b[0m\n\u001b[1;32m   1654\u001b[0m                 )\n",
            "\u001b[0;32m/usr/local/lib/python3.10/dist-packages/pandas/io/excel/_base.py\u001b[0m in \u001b[0;36minspect_excel_format\u001b[0;34m(content_or_path, storage_options)\u001b[0m\n\u001b[1;32m   1523\u001b[0m         \u001b[0mcontent_or_path\u001b[0m \u001b[0;34m=\u001b[0m \u001b[0mBytesIO\u001b[0m\u001b[0;34m(\u001b[0m\u001b[0mcontent_or_path\u001b[0m\u001b[0;34m)\u001b[0m\u001b[0;34m\u001b[0m\u001b[0;34m\u001b[0m\u001b[0m\n\u001b[1;32m   1524\u001b[0m \u001b[0;34m\u001b[0m\u001b[0m\n\u001b[0;32m-> 1525\u001b[0;31m     with get_handle(\n\u001b[0m\u001b[1;32m   1526\u001b[0m         \u001b[0mcontent_or_path\u001b[0m\u001b[0;34m,\u001b[0m \u001b[0;34m\"rb\"\u001b[0m\u001b[0;34m,\u001b[0m \u001b[0mstorage_options\u001b[0m\u001b[0;34m=\u001b[0m\u001b[0mstorage_options\u001b[0m\u001b[0;34m,\u001b[0m \u001b[0mis_text\u001b[0m\u001b[0;34m=\u001b[0m\u001b[0;32mFalse\u001b[0m\u001b[0;34m\u001b[0m\u001b[0;34m\u001b[0m\u001b[0m\n\u001b[1;32m   1527\u001b[0m     ) as handle:\n",
            "\u001b[0;32m/usr/local/lib/python3.10/dist-packages/pandas/io/common.py\u001b[0m in \u001b[0;36mget_handle\u001b[0;34m(path_or_buf, mode, encoding, compression, memory_map, is_text, errors, storage_options)\u001b[0m\n\u001b[1;32m    863\u001b[0m         \u001b[0;32melse\u001b[0m\u001b[0;34m:\u001b[0m\u001b[0;34m\u001b[0m\u001b[0;34m\u001b[0m\u001b[0m\n\u001b[1;32m    864\u001b[0m             \u001b[0;31m# Binary mode\u001b[0m\u001b[0;34m\u001b[0m\u001b[0;34m\u001b[0m\u001b[0m\n\u001b[0;32m--> 865\u001b[0;31m             \u001b[0mhandle\u001b[0m \u001b[0;34m=\u001b[0m \u001b[0mopen\u001b[0m\u001b[0;34m(\u001b[0m\u001b[0mhandle\u001b[0m\u001b[0;34m,\u001b[0m \u001b[0mioargs\u001b[0m\u001b[0;34m.\u001b[0m\u001b[0mmode\u001b[0m\u001b[0;34m)\u001b[0m\u001b[0;34m\u001b[0m\u001b[0;34m\u001b[0m\u001b[0m\n\u001b[0m\u001b[1;32m    866\u001b[0m         \u001b[0mhandles\u001b[0m\u001b[0;34m.\u001b[0m\u001b[0mappend\u001b[0m\u001b[0;34m(\u001b[0m\u001b[0mhandle\u001b[0m\u001b[0;34m)\u001b[0m\u001b[0;34m\u001b[0m\u001b[0;34m\u001b[0m\u001b[0m\n\u001b[1;32m    867\u001b[0m \u001b[0;34m\u001b[0m\u001b[0m\n",
            "\u001b[0;31mFileNotFoundError\u001b[0m: [Errno 2] No such file or directory: '_20230712-TEPid.xlsx'"
          ]
        }
      ]
    },
    {
      "cell_type": "code",
      "source": [
        "funcs_df = pd.DataFrame(alphabetical, columns=['R1','R2','R3'])\n",
        "\n",
        "df['R1'] = funcs_df['R1']\n",
        "df['R2'] = funcs_df['R2']\n",
        "df['R3'] = funcs_df['R3']\n",
        "\n",
        "df"
      ],
      "metadata": {
        "colab": {
          "base_uri": "https://localhost:8080/",
          "height": 250
        },
        "id": "jAvlAk0wSOhV",
        "outputId": "5df65e68-dc7e-4ea9-c861-af4755ff7136"
      },
      "execution_count": null,
      "outputs": [
        {
          "output_type": "error",
          "ename": "NameError",
          "evalue": "ignored",
          "traceback": [
            "\u001b[0;31m---------------------------------------------------------------------------\u001b[0m",
            "\u001b[0;31mNameError\u001b[0m                                 Traceback (most recent call last)",
            "\u001b[0;32m<ipython-input-5-f854aa2425bb>\u001b[0m in \u001b[0;36m<cell line: 1>\u001b[0;34m()\u001b[0m\n\u001b[0;32m----> 1\u001b[0;31m \u001b[0mfuncs_df\u001b[0m \u001b[0;34m=\u001b[0m \u001b[0mpd\u001b[0m\u001b[0;34m.\u001b[0m\u001b[0mDataFrame\u001b[0m\u001b[0;34m(\u001b[0m\u001b[0malphabetical\u001b[0m\u001b[0;34m,\u001b[0m \u001b[0mcolumns\u001b[0m\u001b[0;34m=\u001b[0m\u001b[0;34m[\u001b[0m\u001b[0;34m'R1'\u001b[0m\u001b[0;34m,\u001b[0m\u001b[0;34m'R2'\u001b[0m\u001b[0;34m,\u001b[0m\u001b[0;34m'R3'\u001b[0m\u001b[0;34m]\u001b[0m\u001b[0;34m)\u001b[0m\u001b[0;34m\u001b[0m\u001b[0;34m\u001b[0m\u001b[0m\n\u001b[0m\u001b[1;32m      2\u001b[0m \u001b[0;34m\u001b[0m\u001b[0m\n\u001b[1;32m      3\u001b[0m \u001b[0mdf\u001b[0m\u001b[0;34m[\u001b[0m\u001b[0;34m'R1'\u001b[0m\u001b[0;34m]\u001b[0m \u001b[0;34m=\u001b[0m \u001b[0mfuncs_df\u001b[0m\u001b[0;34m[\u001b[0m\u001b[0;34m'R1'\u001b[0m\u001b[0;34m]\u001b[0m\u001b[0;34m\u001b[0m\u001b[0;34m\u001b[0m\u001b[0m\n\u001b[1;32m      4\u001b[0m \u001b[0mdf\u001b[0m\u001b[0;34m[\u001b[0m\u001b[0;34m'R2'\u001b[0m\u001b[0;34m]\u001b[0m \u001b[0;34m=\u001b[0m \u001b[0mfuncs_df\u001b[0m\u001b[0;34m[\u001b[0m\u001b[0;34m'R2'\u001b[0m\u001b[0;34m]\u001b[0m\u001b[0;34m\u001b[0m\u001b[0;34m\u001b[0m\u001b[0m\n\u001b[1;32m      5\u001b[0m \u001b[0mdf\u001b[0m\u001b[0;34m[\u001b[0m\u001b[0;34m'R3'\u001b[0m\u001b[0;34m]\u001b[0m \u001b[0;34m=\u001b[0m \u001b[0mfuncs_df\u001b[0m\u001b[0;34m[\u001b[0m\u001b[0;34m'R3'\u001b[0m\u001b[0;34m]\u001b[0m\u001b[0;34m\u001b[0m\u001b[0;34m\u001b[0m\u001b[0m\n",
            "\u001b[0;31mNameError\u001b[0m: name 'alphabetical' is not defined"
          ]
        }
      ]
    },
    {
      "cell_type": "code",
      "source": [
        "unique_df = pd.DataFrame(unique, columns=['R1','R2','R3'])\n",
        "\n",
        "updated_df = unique_df.merge(df, on=['R1', 'R2', 'R3'], how='left').drop_duplicates(['R1', 'R2', 'R3'])\n",
        "updated_df = updated_df.reset_index()\n",
        "del updated_df['index']\n",
        "updated_df"
      ],
      "metadata": {
        "id": "QvqXZ634Mkcw"
      },
      "execution_count": null,
      "outputs": []
    },
    {
      "cell_type": "code",
      "source": [
        "updated_df.to_csv('UPDATED_TEPid_20230715.csv')"
      ],
      "metadata": {
        "id": "itB-JMfVWL9h"
      },
      "execution_count": null,
      "outputs": []
    },
    {
      "cell_type": "code",
      "source": [
        "sns.histplot(data = updated_df['TEPcorr'], kde = True)\n",
        "plt.xlabel('DFT Corrected Tolman Electronic Parameter (cm$^{-1}$)')\n",
        "#plt.savefig('BARRIER_kde.png', dpi=2500)\n",
        "plt.show()"
      ],
      "metadata": {
        "id": "slr6z0ARVCo-"
      },
      "execution_count": null,
      "outputs": []
    },
    {
      "cell_type": "markdown",
      "source": [
        "# Making SMILES strings"
      ],
      "metadata": {
        "id": "txKr2PsCV8q8"
      }
    },
    {
      "cell_type": "code",
      "source": [
        "R1 = updated_df.iloc[:,0]\n",
        "R2 = updated_df.iloc[:,1]\n",
        "R3 = updated_df.iloc[:,2]\n",
        "\n",
        "ligand_dict_R1 = {\n",
        "    '26-F-Ph': 'C3=C(F)C=CC=C3F',\n",
        "    '35-F-Ph': 'C1=CC(F)=CC(F)=C1',\n",
        "    'Br': 'Br',\n",
        "    'CF3': 'C(F)(F)F',\n",
        "    'CH2Cl': 'C(Cl)',\n",
        "    'CH2F': 'C(F)',\n",
        "    'CH2OH': 'CO',\n",
        "    'CHO': 'C=O',\n",
        "    'Cl': 'Cl',\n",
        "    'COCH3': 'C(C)=O',\n",
        "    'CONH2': 'C(N)=O',\n",
        "    'COOCH3': 'C(OC)=O',\n",
        "    'COOH': 'C(O)=O',\n",
        "    'CN': 'C#N',\n",
        "    'Cy': 'C1CCCCC1',\n",
        "    'Et': 'CC',\n",
        "    'F': 'F',\n",
        "    'H': '',\n",
        "    'I': 'I',\n",
        "    'iPr': 'C(C)C',\n",
        "    'Me': 'C',\n",
        "    'Mes': 'C1=C(C)C=C(C)C=C1(C)',\n",
        "    'NCH3_2': 'N(C)C',\n",
        "    'NHCH3': 'NC',\n",
        "    'NH2': 'N',\n",
        "    'NO2': '[N+]([O-])=O',\n",
        "    'OH': 'O',\n",
        "    'OMe': 'OC',\n",
        "    'Ph': 'C1=CC=CC=C1',\n",
        "    'SCH3': 'SC',\n",
        "    'SH': 'S',\n",
        "    'SiH3': '[SiH3]',\n",
        "    'Allyl': 'C=C',\n",
        "    'Bn': 'CC1=CC=CC=C1',\n",
        "    'Propyl': 'CCC',\n",
        "    'tBu': 'C(C)(C)C',\n",
        "    'TMS': '[Si](C)(C)C',\n",
        "}\n",
        "\n",
        "ligand_dict_R2 = {\n",
        "    '26-F-Ph': 'C3(F)=CC=CC(F)=C3',\n",
        "    '35-F-Ph': 'C2=C(F)C=C(F)C=C2',\n",
        "    'Br': 'Br',\n",
        "    'CF3': 'FC(F)(F)',\n",
        "    'CH2Cl': 'ClC',\n",
        "    'CH2F': 'FC',\n",
        "    'CH2OH': 'OC',\n",
        "    'CHO': 'O=C',\n",
        "    'Cl': 'Cl',\n",
        "    'COCH3': 'O=C(C)',\n",
        "    'CONH2': 'O=C(N)',\n",
        "    'COOCH3': 'O=C(OC)',\n",
        "    'COOH': 'O=C(O)',\n",
        "    'CN': 'N#C',\n",
        "    'Cy': 'C1CCCCC1',\n",
        "    'Et': 'CC',\n",
        "    'F': 'F',\n",
        "    'H': '',\n",
        "    'I': 'I',\n",
        "    'iPr': 'CC(C)',\n",
        "    'Me': 'C',\n",
        "    'Mes': 'CC1=CC(C)=CC(C)=C1',\n",
        "    'NCH3_2': 'CN(C)',\n",
        "    'NHCH3': 'CN',\n",
        "    'NH2': 'N',\n",
        "    'NO2': '[O-][N+](=O)',\n",
        "    'OH': 'O',\n",
        "    'OMe': 'CO',\n",
        "    'Ph': 'C1=CC=CC=C1',\n",
        "    'SCH3': 'CS',\n",
        "    'SH': 'S',\n",
        "    'SiH3': '[SiH3]',\n",
        "    'Allyl': 'C=C',\n",
        "    'Bn': 'C1=CC=CC=C1C',\n",
        "    'Propyl': 'CCC',\n",
        "    'tBu': 'CC(C)(C)',\n",
        "    'TMS': 'C[Si](C)(C)',\n",
        "}\n",
        "\n",
        "\n",
        "SMILES = list()\n",
        "\n",
        "for i in range(len(R1)):\n",
        "    smi = '[R2]P([R3])[R1]'\n",
        "    smi = smi.replace('[R1]', ligand_dict_R1[updated_df.loc[i].R1])\n",
        "    smi = smi.replace('[R2]', ligand_dict_R2[updated_df.loc[i].R2])\n",
        "    if updated_df.loc[i].R3 == 'H':\n",
        "      smi = smi.replace('([R3])', '')\n",
        "    else:\n",
        "      smi = smi.replace('[R3]', ligand_dict_R1[updated_df.loc[i].R3])\n",
        "    SMILES.append(smi)\n",
        "\n",
        "len(SMILES)\n",
        "\n",
        "updated_df['SMILES'] = SMILES\n",
        "updated_df.head()"
      ],
      "metadata": {
        "colab": {
          "base_uri": "https://localhost:8080/",
          "height": 206
        },
        "id": "ufWlMVsvV_Ms",
        "outputId": "db1f0473-5dac-40ba-a70e-697ba1be6ea3"
      },
      "execution_count": null,
      "outputs": [
        {
          "output_type": "execute_result",
          "data": {
            "text/plain": [
              "        R1       R2   R3                            Filename     TEP  TEPcorr  \\\n",
              "0  26-F-Ph  26-F-Ph  tBu  tBu-phos-_9=26-F-Ph_10=26-F-Ph.log 2167.36  2066.81   \n",
              "1  26-F-Ph  35-F-Ph  tBu  tBu-phos-_9=26-F-Ph_10=35-F-Ph.log 2165.69  2065.11   \n",
              "2  26-F-Ph       Br  tBu       tBu-phos-_9=26-F-Ph_10=Br.log 2175.11  2074.71   \n",
              "3  26-F-Ph      CF3  tBu      tBu-phos-_9=26-F-Ph_10=CF3.log 2176.99  2076.63   \n",
              "4  26-F-Ph    CH2Cl  tBu    tBu-phos-_9=26-F-Ph_10=CH2Cl.log 2169.93  2069.43   \n",
              "\n",
              "                                        SMILES  \n",
              "0  C3(F)=CC=CC(F)=C3P(C(C)(C)C)C3=C(F)C=CC=C3F  \n",
              "1  C2=C(F)C=C(F)C=C2P(C(C)(C)C)C3=C(F)C=CC=C3F  \n",
              "2                 BrP(C(C)(C)C)C3=C(F)C=CC=C3F  \n",
              "3           FC(F)(F)P(C(C)(C)C)C3=C(F)C=CC=C3F  \n",
              "4                ClCP(C(C)(C)C)C3=C(F)C=CC=C3F  "
            ],
            "text/html": [
              "\n",
              "\n",
              "  <div id=\"df-162d7086-66c2-4e9b-9363-4fab9de91856\">\n",
              "    <div class=\"colab-df-container\">\n",
              "      <div>\n",
              "<style scoped>\n",
              "    .dataframe tbody tr th:only-of-type {\n",
              "        vertical-align: middle;\n",
              "    }\n",
              "\n",
              "    .dataframe tbody tr th {\n",
              "        vertical-align: top;\n",
              "    }\n",
              "\n",
              "    .dataframe thead th {\n",
              "        text-align: right;\n",
              "    }\n",
              "</style>\n",
              "<table border=\"1\" class=\"dataframe\">\n",
              "  <thead>\n",
              "    <tr style=\"text-align: right;\">\n",
              "      <th></th>\n",
              "      <th>R1</th>\n",
              "      <th>R2</th>\n",
              "      <th>R3</th>\n",
              "      <th>Filename</th>\n",
              "      <th>TEP</th>\n",
              "      <th>TEPcorr</th>\n",
              "      <th>SMILES</th>\n",
              "    </tr>\n",
              "  </thead>\n",
              "  <tbody>\n",
              "    <tr>\n",
              "      <th>0</th>\n",
              "      <td>26-F-Ph</td>\n",
              "      <td>26-F-Ph</td>\n",
              "      <td>tBu</td>\n",
              "      <td>tBu-phos-_9=26-F-Ph_10=26-F-Ph.log</td>\n",
              "      <td>2167.36</td>\n",
              "      <td>2066.81</td>\n",
              "      <td>C3(F)=CC=CC(F)=C3P(C(C)(C)C)C3=C(F)C=CC=C3F</td>\n",
              "    </tr>\n",
              "    <tr>\n",
              "      <th>1</th>\n",
              "      <td>26-F-Ph</td>\n",
              "      <td>35-F-Ph</td>\n",
              "      <td>tBu</td>\n",
              "      <td>tBu-phos-_9=26-F-Ph_10=35-F-Ph.log</td>\n",
              "      <td>2165.69</td>\n",
              "      <td>2065.11</td>\n",
              "      <td>C2=C(F)C=C(F)C=C2P(C(C)(C)C)C3=C(F)C=CC=C3F</td>\n",
              "    </tr>\n",
              "    <tr>\n",
              "      <th>2</th>\n",
              "      <td>26-F-Ph</td>\n",
              "      <td>Br</td>\n",
              "      <td>tBu</td>\n",
              "      <td>tBu-phos-_9=26-F-Ph_10=Br.log</td>\n",
              "      <td>2175.11</td>\n",
              "      <td>2074.71</td>\n",
              "      <td>BrP(C(C)(C)C)C3=C(F)C=CC=C3F</td>\n",
              "    </tr>\n",
              "    <tr>\n",
              "      <th>3</th>\n",
              "      <td>26-F-Ph</td>\n",
              "      <td>CF3</td>\n",
              "      <td>tBu</td>\n",
              "      <td>tBu-phos-_9=26-F-Ph_10=CF3.log</td>\n",
              "      <td>2176.99</td>\n",
              "      <td>2076.63</td>\n",
              "      <td>FC(F)(F)P(C(C)(C)C)C3=C(F)C=CC=C3F</td>\n",
              "    </tr>\n",
              "    <tr>\n",
              "      <th>4</th>\n",
              "      <td>26-F-Ph</td>\n",
              "      <td>CH2Cl</td>\n",
              "      <td>tBu</td>\n",
              "      <td>tBu-phos-_9=26-F-Ph_10=CH2Cl.log</td>\n",
              "      <td>2169.93</td>\n",
              "      <td>2069.43</td>\n",
              "      <td>ClCP(C(C)(C)C)C3=C(F)C=CC=C3F</td>\n",
              "    </tr>\n",
              "  </tbody>\n",
              "</table>\n",
              "</div>\n",
              "      <button class=\"colab-df-convert\" onclick=\"convertToInteractive('df-162d7086-66c2-4e9b-9363-4fab9de91856')\"\n",
              "              title=\"Convert this dataframe to an interactive table.\"\n",
              "              style=\"display:none;\">\n",
              "\n",
              "  <svg xmlns=\"http://www.w3.org/2000/svg\" height=\"24px\"viewBox=\"0 0 24 24\"\n",
              "       width=\"24px\">\n",
              "    <path d=\"M0 0h24v24H0V0z\" fill=\"none\"/>\n",
              "    <path d=\"M18.56 5.44l.94 2.06.94-2.06 2.06-.94-2.06-.94-.94-2.06-.94 2.06-2.06.94zm-11 1L8.5 8.5l.94-2.06 2.06-.94-2.06-.94L8.5 2.5l-.94 2.06-2.06.94zm10 10l.94 2.06.94-2.06 2.06-.94-2.06-.94-.94-2.06-.94 2.06-2.06.94z\"/><path d=\"M17.41 7.96l-1.37-1.37c-.4-.4-.92-.59-1.43-.59-.52 0-1.04.2-1.43.59L10.3 9.45l-7.72 7.72c-.78.78-.78 2.05 0 2.83L4 21.41c.39.39.9.59 1.41.59.51 0 1.02-.2 1.41-.59l7.78-7.78 2.81-2.81c.8-.78.8-2.07 0-2.86zM5.41 20L4 18.59l7.72-7.72 1.47 1.35L5.41 20z\"/>\n",
              "  </svg>\n",
              "      </button>\n",
              "\n",
              "\n",
              "\n",
              "    <div id=\"df-d4af67a8-6580-442d-b88e-26587362e230\">\n",
              "      <button class=\"colab-df-quickchart\" onclick=\"quickchart('df-d4af67a8-6580-442d-b88e-26587362e230')\"\n",
              "              title=\"Suggest charts.\"\n",
              "              style=\"display:none;\">\n",
              "\n",
              "<svg xmlns=\"http://www.w3.org/2000/svg\" height=\"24px\"viewBox=\"0 0 24 24\"\n",
              "     width=\"24px\">\n",
              "    <g>\n",
              "        <path d=\"M19 3H5c-1.1 0-2 .9-2 2v14c0 1.1.9 2 2 2h14c1.1 0 2-.9 2-2V5c0-1.1-.9-2-2-2zM9 17H7v-7h2v7zm4 0h-2V7h2v10zm4 0h-2v-4h2v4z\"/>\n",
              "    </g>\n",
              "</svg>\n",
              "      </button>\n",
              "    </div>\n",
              "\n",
              "<style>\n",
              "  .colab-df-quickchart {\n",
              "    background-color: #E8F0FE;\n",
              "    border: none;\n",
              "    border-radius: 50%;\n",
              "    cursor: pointer;\n",
              "    display: none;\n",
              "    fill: #1967D2;\n",
              "    height: 32px;\n",
              "    padding: 0 0 0 0;\n",
              "    width: 32px;\n",
              "  }\n",
              "\n",
              "  .colab-df-quickchart:hover {\n",
              "    background-color: #E2EBFA;\n",
              "    box-shadow: 0px 1px 2px rgba(60, 64, 67, 0.3), 0px 1px 3px 1px rgba(60, 64, 67, 0.15);\n",
              "    fill: #174EA6;\n",
              "  }\n",
              "\n",
              "  [theme=dark] .colab-df-quickchart {\n",
              "    background-color: #3B4455;\n",
              "    fill: #D2E3FC;\n",
              "  }\n",
              "\n",
              "  [theme=dark] .colab-df-quickchart:hover {\n",
              "    background-color: #434B5C;\n",
              "    box-shadow: 0px 1px 3px 1px rgba(0, 0, 0, 0.15);\n",
              "    filter: drop-shadow(0px 1px 2px rgba(0, 0, 0, 0.3));\n",
              "    fill: #FFFFFF;\n",
              "  }\n",
              "</style>\n",
              "\n",
              "    <script>\n",
              "      async function quickchart(key) {\n",
              "        const containerElement = document.querySelector('#' + key);\n",
              "        const charts = await google.colab.kernel.invokeFunction(\n",
              "            'suggestCharts', [key], {});\n",
              "      }\n",
              "    </script>\n",
              "\n",
              "      <script>\n",
              "\n",
              "function displayQuickchartButton(domScope) {\n",
              "  let quickchartButtonEl =\n",
              "    domScope.querySelector('#df-d4af67a8-6580-442d-b88e-26587362e230 button.colab-df-quickchart');\n",
              "  quickchartButtonEl.style.display =\n",
              "    google.colab.kernel.accessAllowed ? 'block' : 'none';\n",
              "}\n",
              "\n",
              "        displayQuickchartButton(document);\n",
              "      </script>\n",
              "      <style>\n",
              "    .colab-df-container {\n",
              "      display:flex;\n",
              "      flex-wrap:wrap;\n",
              "      gap: 12px;\n",
              "    }\n",
              "\n",
              "    .colab-df-convert {\n",
              "      background-color: #E8F0FE;\n",
              "      border: none;\n",
              "      border-radius: 50%;\n",
              "      cursor: pointer;\n",
              "      display: none;\n",
              "      fill: #1967D2;\n",
              "      height: 32px;\n",
              "      padding: 0 0 0 0;\n",
              "      width: 32px;\n",
              "    }\n",
              "\n",
              "    .colab-df-convert:hover {\n",
              "      background-color: #E2EBFA;\n",
              "      box-shadow: 0px 1px 2px rgba(60, 64, 67, 0.3), 0px 1px 3px 1px rgba(60, 64, 67, 0.15);\n",
              "      fill: #174EA6;\n",
              "    }\n",
              "\n",
              "    [theme=dark] .colab-df-convert {\n",
              "      background-color: #3B4455;\n",
              "      fill: #D2E3FC;\n",
              "    }\n",
              "\n",
              "    [theme=dark] .colab-df-convert:hover {\n",
              "      background-color: #434B5C;\n",
              "      box-shadow: 0px 1px 3px 1px rgba(0, 0, 0, 0.15);\n",
              "      filter: drop-shadow(0px 1px 2px rgba(0, 0, 0, 0.3));\n",
              "      fill: #FFFFFF;\n",
              "    }\n",
              "  </style>\n",
              "\n",
              "      <script>\n",
              "        const buttonEl =\n",
              "          document.querySelector('#df-162d7086-66c2-4e9b-9363-4fab9de91856 button.colab-df-convert');\n",
              "        buttonEl.style.display =\n",
              "          google.colab.kernel.accessAllowed ? 'block' : 'none';\n",
              "\n",
              "        async function convertToInteractive(key) {\n",
              "          const element = document.querySelector('#df-162d7086-66c2-4e9b-9363-4fab9de91856');\n",
              "          const dataTable =\n",
              "            await google.colab.kernel.invokeFunction('convertToInteractive',\n",
              "                                                     [key], {});\n",
              "          if (!dataTable) return;\n",
              "\n",
              "          const docLinkHtml = 'Like what you see? Visit the ' +\n",
              "            '<a target=\"_blank\" href=https://colab.research.google.com/notebooks/data_table.ipynb>data table notebook</a>'\n",
              "            + ' to learn more about interactive tables.';\n",
              "          element.innerHTML = '';\n",
              "          dataTable['output_type'] = 'display_data';\n",
              "          await google.colab.output.renderOutput(dataTable, element);\n",
              "          const docLink = document.createElement('div');\n",
              "          docLink.innerHTML = docLinkHtml;\n",
              "          element.appendChild(docLink);\n",
              "        }\n",
              "      </script>\n",
              "    </div>\n",
              "  </div>\n"
            ]
          },
          "metadata": {},
          "execution_count": 7
        }
      ]
    },
    {
      "cell_type": "code",
      "source": [
        "updated_df.to_csv('UPDATED_TEPid_20230715.csv')"
      ],
      "metadata": {
        "id": "3NIHp1PoyHEc"
      },
      "execution_count": null,
      "outputs": []
    },
    {
      "cell_type": "markdown",
      "source": [
        "# RDkit"
      ],
      "metadata": {
        "id": "E93gBTQryq_F"
      }
    },
    {
      "cell_type": "code",
      "source": [
        "duplicates_smiles = updated_df[updated_df['SMILES'].duplicated()]['SMILES'].values\n",
        "print(\"Number of duplicate SMILES: \", len(duplicates_smiles))"
      ],
      "metadata": {
        "colab": {
          "base_uri": "https://localhost:8080/"
        },
        "id": "04KgWzaVyuC3",
        "outputId": "b6a02139-d94a-4d26-c4a1-3cd3b5a203af"
      },
      "execution_count": null,
      "outputs": [
        {
          "output_type": "stream",
          "name": "stdout",
          "text": [
            "Number of duplicate SMILES:  0\n"
          ]
        }
      ]
    },
    {
      "cell_type": "code",
      "source": [
        "# canonical_smiles(updated_df.SMILES)\n",
        "Mol_descriptors, desc_names = RDkit_descriptors(updated_df.SMILES)\n",
        "df_rdkit = pd.DataFrame(Mol_descriptors, columns=desc_names)\n",
        "df_rdkit = df_rdkit.select_dtypes([np.number])\n",
        "df_rdkit.head()"
      ],
      "metadata": {
        "colab": {
          "base_uri": "https://localhost:8080/",
          "height": 300
        },
        "id": "vl4gBvqYy4wq",
        "outputId": "ab6c852f-f048-42dc-9ced-5cd09f8439f1"
      },
      "execution_count": null,
      "outputs": [
        {
          "output_type": "execute_result",
          "data": {
            "text/plain": [
              "   MaxEStateIndex  MinEStateIndex  MaxAbsEStateIndex  MinAbsEStateIndex  qed  \\\n",
              "0           15.34           -4.57              15.34               1.42 0.57   \n",
              "1           15.37           -4.43              15.37               1.40 0.57   \n",
              "2           14.45           -3.72              14.45               1.14 0.68   \n",
              "3           14.51           -6.09              14.51               1.48 0.52   \n",
              "4           14.79           -4.16              14.79               1.28 0.55   \n",
              "\n",
              "   MolWt  HeavyAtomMolWt  ExactMolWt  NumValenceElectrons  \\\n",
              "0 314.26          299.14      314.08                  112   \n",
              "1 314.26          299.14      314.08                  112   \n",
              "2 281.08          268.98      279.98                   78   \n",
              "3 270.18          258.08      270.06                   96   \n",
              "4 250.66          236.54      250.05                   84   \n",
              "\n",
              "   NumRadicalElectrons  ...  fr_sulfide  fr_sulfonamd  fr_sulfone  \\\n",
              "0                    0  ...           0             0           0   \n",
              "1                    0  ...           0             0           0   \n",
              "2                    0  ...           0             0           0   \n",
              "3                    0  ...           0             0           0   \n",
              "4                    0  ...           0             0           0   \n",
              "\n",
              "   fr_term_acetylene  fr_tetrazole  fr_thiazole  fr_thiocyan  fr_thiophene  \\\n",
              "0                  0             0            0            0             0   \n",
              "1                  0             0            0            0             0   \n",
              "2                  0             0            0            0             0   \n",
              "3                  0             0            0            0             0   \n",
              "4                  0             0            0            0             0   \n",
              "\n",
              "   fr_unbrch_alkane  fr_urea  \n",
              "0                 0        0  \n",
              "1                 0        0  \n",
              "2                 0        0  \n",
              "3                 0        0  \n",
              "4                 0        0  \n",
              "\n",
              "[5 rows x 208 columns]"
            ],
            "text/html": [
              "\n",
              "\n",
              "  <div id=\"df-54b4f162-e3aa-4afe-9d35-491d3369fb82\">\n",
              "    <div class=\"colab-df-container\">\n",
              "      <div>\n",
              "<style scoped>\n",
              "    .dataframe tbody tr th:only-of-type {\n",
              "        vertical-align: middle;\n",
              "    }\n",
              "\n",
              "    .dataframe tbody tr th {\n",
              "        vertical-align: top;\n",
              "    }\n",
              "\n",
              "    .dataframe thead th {\n",
              "        text-align: right;\n",
              "    }\n",
              "</style>\n",
              "<table border=\"1\" class=\"dataframe\">\n",
              "  <thead>\n",
              "    <tr style=\"text-align: right;\">\n",
              "      <th></th>\n",
              "      <th>MaxEStateIndex</th>\n",
              "      <th>MinEStateIndex</th>\n",
              "      <th>MaxAbsEStateIndex</th>\n",
              "      <th>MinAbsEStateIndex</th>\n",
              "      <th>qed</th>\n",
              "      <th>MolWt</th>\n",
              "      <th>HeavyAtomMolWt</th>\n",
              "      <th>ExactMolWt</th>\n",
              "      <th>NumValenceElectrons</th>\n",
              "      <th>NumRadicalElectrons</th>\n",
              "      <th>...</th>\n",
              "      <th>fr_sulfide</th>\n",
              "      <th>fr_sulfonamd</th>\n",
              "      <th>fr_sulfone</th>\n",
              "      <th>fr_term_acetylene</th>\n",
              "      <th>fr_tetrazole</th>\n",
              "      <th>fr_thiazole</th>\n",
              "      <th>fr_thiocyan</th>\n",
              "      <th>fr_thiophene</th>\n",
              "      <th>fr_unbrch_alkane</th>\n",
              "      <th>fr_urea</th>\n",
              "    </tr>\n",
              "  </thead>\n",
              "  <tbody>\n",
              "    <tr>\n",
              "      <th>0</th>\n",
              "      <td>15.34</td>\n",
              "      <td>-4.57</td>\n",
              "      <td>15.34</td>\n",
              "      <td>1.42</td>\n",
              "      <td>0.57</td>\n",
              "      <td>314.26</td>\n",
              "      <td>299.14</td>\n",
              "      <td>314.08</td>\n",
              "      <td>112</td>\n",
              "      <td>0</td>\n",
              "      <td>...</td>\n",
              "      <td>0</td>\n",
              "      <td>0</td>\n",
              "      <td>0</td>\n",
              "      <td>0</td>\n",
              "      <td>0</td>\n",
              "      <td>0</td>\n",
              "      <td>0</td>\n",
              "      <td>0</td>\n",
              "      <td>0</td>\n",
              "      <td>0</td>\n",
              "    </tr>\n",
              "    <tr>\n",
              "      <th>1</th>\n",
              "      <td>15.37</td>\n",
              "      <td>-4.43</td>\n",
              "      <td>15.37</td>\n",
              "      <td>1.40</td>\n",
              "      <td>0.57</td>\n",
              "      <td>314.26</td>\n",
              "      <td>299.14</td>\n",
              "      <td>314.08</td>\n",
              "      <td>112</td>\n",
              "      <td>0</td>\n",
              "      <td>...</td>\n",
              "      <td>0</td>\n",
              "      <td>0</td>\n",
              "      <td>0</td>\n",
              "      <td>0</td>\n",
              "      <td>0</td>\n",
              "      <td>0</td>\n",
              "      <td>0</td>\n",
              "      <td>0</td>\n",
              "      <td>0</td>\n",
              "      <td>0</td>\n",
              "    </tr>\n",
              "    <tr>\n",
              "      <th>2</th>\n",
              "      <td>14.45</td>\n",
              "      <td>-3.72</td>\n",
              "      <td>14.45</td>\n",
              "      <td>1.14</td>\n",
              "      <td>0.68</td>\n",
              "      <td>281.08</td>\n",
              "      <td>268.98</td>\n",
              "      <td>279.98</td>\n",
              "      <td>78</td>\n",
              "      <td>0</td>\n",
              "      <td>...</td>\n",
              "      <td>0</td>\n",
              "      <td>0</td>\n",
              "      <td>0</td>\n",
              "      <td>0</td>\n",
              "      <td>0</td>\n",
              "      <td>0</td>\n",
              "      <td>0</td>\n",
              "      <td>0</td>\n",
              "      <td>0</td>\n",
              "      <td>0</td>\n",
              "    </tr>\n",
              "    <tr>\n",
              "      <th>3</th>\n",
              "      <td>14.51</td>\n",
              "      <td>-6.09</td>\n",
              "      <td>14.51</td>\n",
              "      <td>1.48</td>\n",
              "      <td>0.52</td>\n",
              "      <td>270.18</td>\n",
              "      <td>258.08</td>\n",
              "      <td>270.06</td>\n",
              "      <td>96</td>\n",
              "      <td>0</td>\n",
              "      <td>...</td>\n",
              "      <td>0</td>\n",
              "      <td>0</td>\n",
              "      <td>0</td>\n",
              "      <td>0</td>\n",
              "      <td>0</td>\n",
              "      <td>0</td>\n",
              "      <td>0</td>\n",
              "      <td>0</td>\n",
              "      <td>0</td>\n",
              "      <td>0</td>\n",
              "    </tr>\n",
              "    <tr>\n",
              "      <th>4</th>\n",
              "      <td>14.79</td>\n",
              "      <td>-4.16</td>\n",
              "      <td>14.79</td>\n",
              "      <td>1.28</td>\n",
              "      <td>0.55</td>\n",
              "      <td>250.66</td>\n",
              "      <td>236.54</td>\n",
              "      <td>250.05</td>\n",
              "      <td>84</td>\n",
              "      <td>0</td>\n",
              "      <td>...</td>\n",
              "      <td>0</td>\n",
              "      <td>0</td>\n",
              "      <td>0</td>\n",
              "      <td>0</td>\n",
              "      <td>0</td>\n",
              "      <td>0</td>\n",
              "      <td>0</td>\n",
              "      <td>0</td>\n",
              "      <td>0</td>\n",
              "      <td>0</td>\n",
              "    </tr>\n",
              "  </tbody>\n",
              "</table>\n",
              "<p>5 rows × 208 columns</p>\n",
              "</div>\n",
              "      <button class=\"colab-df-convert\" onclick=\"convertToInteractive('df-54b4f162-e3aa-4afe-9d35-491d3369fb82')\"\n",
              "              title=\"Convert this dataframe to an interactive table.\"\n",
              "              style=\"display:none;\">\n",
              "\n",
              "  <svg xmlns=\"http://www.w3.org/2000/svg\" height=\"24px\"viewBox=\"0 0 24 24\"\n",
              "       width=\"24px\">\n",
              "    <path d=\"M0 0h24v24H0V0z\" fill=\"none\"/>\n",
              "    <path d=\"M18.56 5.44l.94 2.06.94-2.06 2.06-.94-2.06-.94-.94-2.06-.94 2.06-2.06.94zm-11 1L8.5 8.5l.94-2.06 2.06-.94-2.06-.94L8.5 2.5l-.94 2.06-2.06.94zm10 10l.94 2.06.94-2.06 2.06-.94-2.06-.94-.94-2.06-.94 2.06-2.06.94z\"/><path d=\"M17.41 7.96l-1.37-1.37c-.4-.4-.92-.59-1.43-.59-.52 0-1.04.2-1.43.59L10.3 9.45l-7.72 7.72c-.78.78-.78 2.05 0 2.83L4 21.41c.39.39.9.59 1.41.59.51 0 1.02-.2 1.41-.59l7.78-7.78 2.81-2.81c.8-.78.8-2.07 0-2.86zM5.41 20L4 18.59l7.72-7.72 1.47 1.35L5.41 20z\"/>\n",
              "  </svg>\n",
              "      </button>\n",
              "\n",
              "\n",
              "\n",
              "    <div id=\"df-dc8c1437-abc1-4020-9d58-3e9798c09236\">\n",
              "      <button class=\"colab-df-quickchart\" onclick=\"quickchart('df-dc8c1437-abc1-4020-9d58-3e9798c09236')\"\n",
              "              title=\"Suggest charts.\"\n",
              "              style=\"display:none;\">\n",
              "\n",
              "<svg xmlns=\"http://www.w3.org/2000/svg\" height=\"24px\"viewBox=\"0 0 24 24\"\n",
              "     width=\"24px\">\n",
              "    <g>\n",
              "        <path d=\"M19 3H5c-1.1 0-2 .9-2 2v14c0 1.1.9 2 2 2h14c1.1 0 2-.9 2-2V5c0-1.1-.9-2-2-2zM9 17H7v-7h2v7zm4 0h-2V7h2v10zm4 0h-2v-4h2v4z\"/>\n",
              "    </g>\n",
              "</svg>\n",
              "      </button>\n",
              "    </div>\n",
              "\n",
              "<style>\n",
              "  .colab-df-quickchart {\n",
              "    background-color: #E8F0FE;\n",
              "    border: none;\n",
              "    border-radius: 50%;\n",
              "    cursor: pointer;\n",
              "    display: none;\n",
              "    fill: #1967D2;\n",
              "    height: 32px;\n",
              "    padding: 0 0 0 0;\n",
              "    width: 32px;\n",
              "  }\n",
              "\n",
              "  .colab-df-quickchart:hover {\n",
              "    background-color: #E2EBFA;\n",
              "    box-shadow: 0px 1px 2px rgba(60, 64, 67, 0.3), 0px 1px 3px 1px rgba(60, 64, 67, 0.15);\n",
              "    fill: #174EA6;\n",
              "  }\n",
              "\n",
              "  [theme=dark] .colab-df-quickchart {\n",
              "    background-color: #3B4455;\n",
              "    fill: #D2E3FC;\n",
              "  }\n",
              "\n",
              "  [theme=dark] .colab-df-quickchart:hover {\n",
              "    background-color: #434B5C;\n",
              "    box-shadow: 0px 1px 3px 1px rgba(0, 0, 0, 0.15);\n",
              "    filter: drop-shadow(0px 1px 2px rgba(0, 0, 0, 0.3));\n",
              "    fill: #FFFFFF;\n",
              "  }\n",
              "</style>\n",
              "\n",
              "    <script>\n",
              "      async function quickchart(key) {\n",
              "        const containerElement = document.querySelector('#' + key);\n",
              "        const charts = await google.colab.kernel.invokeFunction(\n",
              "            'suggestCharts', [key], {});\n",
              "      }\n",
              "    </script>\n",
              "\n",
              "      <script>\n",
              "\n",
              "function displayQuickchartButton(domScope) {\n",
              "  let quickchartButtonEl =\n",
              "    domScope.querySelector('#df-dc8c1437-abc1-4020-9d58-3e9798c09236 button.colab-df-quickchart');\n",
              "  quickchartButtonEl.style.display =\n",
              "    google.colab.kernel.accessAllowed ? 'block' : 'none';\n",
              "}\n",
              "\n",
              "        displayQuickchartButton(document);\n",
              "      </script>\n",
              "      <style>\n",
              "    .colab-df-container {\n",
              "      display:flex;\n",
              "      flex-wrap:wrap;\n",
              "      gap: 12px;\n",
              "    }\n",
              "\n",
              "    .colab-df-convert {\n",
              "      background-color: #E8F0FE;\n",
              "      border: none;\n",
              "      border-radius: 50%;\n",
              "      cursor: pointer;\n",
              "      display: none;\n",
              "      fill: #1967D2;\n",
              "      height: 32px;\n",
              "      padding: 0 0 0 0;\n",
              "      width: 32px;\n",
              "    }\n",
              "\n",
              "    .colab-df-convert:hover {\n",
              "      background-color: #E2EBFA;\n",
              "      box-shadow: 0px 1px 2px rgba(60, 64, 67, 0.3), 0px 1px 3px 1px rgba(60, 64, 67, 0.15);\n",
              "      fill: #174EA6;\n",
              "    }\n",
              "\n",
              "    [theme=dark] .colab-df-convert {\n",
              "      background-color: #3B4455;\n",
              "      fill: #D2E3FC;\n",
              "    }\n",
              "\n",
              "    [theme=dark] .colab-df-convert:hover {\n",
              "      background-color: #434B5C;\n",
              "      box-shadow: 0px 1px 3px 1px rgba(0, 0, 0, 0.15);\n",
              "      filter: drop-shadow(0px 1px 2px rgba(0, 0, 0, 0.3));\n",
              "      fill: #FFFFFF;\n",
              "    }\n",
              "  </style>\n",
              "\n",
              "      <script>\n",
              "        const buttonEl =\n",
              "          document.querySelector('#df-54b4f162-e3aa-4afe-9d35-491d3369fb82 button.colab-df-convert');\n",
              "        buttonEl.style.display =\n",
              "          google.colab.kernel.accessAllowed ? 'block' : 'none';\n",
              "\n",
              "        async function convertToInteractive(key) {\n",
              "          const element = document.querySelector('#df-54b4f162-e3aa-4afe-9d35-491d3369fb82');\n",
              "          const dataTable =\n",
              "            await google.colab.kernel.invokeFunction('convertToInteractive',\n",
              "                                                     [key], {});\n",
              "          if (!dataTable) return;\n",
              "\n",
              "          const docLinkHtml = 'Like what you see? Visit the ' +\n",
              "            '<a target=\"_blank\" href=https://colab.research.google.com/notebooks/data_table.ipynb>data table notebook</a>'\n",
              "            + ' to learn more about interactive tables.';\n",
              "          element.innerHTML = '';\n",
              "          dataTable['output_type'] = 'display_data';\n",
              "          await google.colab.output.renderOutput(dataTable, element);\n",
              "          const docLink = document.createElement('div');\n",
              "          docLink.innerHTML = docLinkHtml;\n",
              "          element.appendChild(docLink);\n",
              "        }\n",
              "      </script>\n",
              "    </div>\n",
              "  </div>\n"
            ]
          },
          "metadata": {},
          "execution_count": 10
        }
      ]
    },
    {
      "cell_type": "markdown",
      "source": [
        "# **Running ML**"
      ],
      "metadata": {
        "id": "pVKfzAYIrxJv"
      }
    },
    {
      "cell_type": "code",
      "source": [
        "X_orig = df_rdkit.copy()\n",
        "\n",
        "\n",
        "corr_matrix = X_orig.corr().abs()\n",
        "mask = np.triu(np.ones_like(corr_matrix, dtype=bool))\n",
        "tri_df = corr_matrix.mask(mask)\n",
        "\n",
        "# # Find index of columns with correlation greater than 0.95\n",
        "to_drop = [c for c in tri_df.columns if any(tri_df[c] > 0.95)]\n",
        "\n",
        "print(to_drop)"
      ],
      "metadata": {
        "colab": {
          "base_uri": "https://localhost:8080/",
          "height": 250
        },
        "id": "TtATx1jD5ywA",
        "outputId": "f86e3496-a67e-40d2-acfd-684593bc8a6b"
      },
      "execution_count": null,
      "outputs": [
        {
          "output_type": "error",
          "ename": "NameError",
          "evalue": "ignored",
          "traceback": [
            "\u001b[0;31m---------------------------------------------------------------------------\u001b[0m",
            "\u001b[0;31mNameError\u001b[0m                                 Traceback (most recent call last)",
            "\u001b[0;32m<ipython-input-6-37cd6c0fb127>\u001b[0m in \u001b[0;36m<cell line: 1>\u001b[0;34m()\u001b[0m\n\u001b[0;32m----> 1\u001b[0;31m \u001b[0mX_orig\u001b[0m \u001b[0;34m=\u001b[0m \u001b[0mdf_rdkit\u001b[0m\u001b[0;34m.\u001b[0m\u001b[0mcopy\u001b[0m\u001b[0;34m(\u001b[0m\u001b[0;34m)\u001b[0m\u001b[0;34m\u001b[0m\u001b[0;34m\u001b[0m\u001b[0m\n\u001b[0m\u001b[1;32m      2\u001b[0m \u001b[0;34m\u001b[0m\u001b[0m\n\u001b[1;32m      3\u001b[0m \u001b[0;34m\u001b[0m\u001b[0m\n\u001b[1;32m      4\u001b[0m \u001b[0mcorr_matrix\u001b[0m \u001b[0;34m=\u001b[0m \u001b[0mX_orig\u001b[0m\u001b[0;34m.\u001b[0m\u001b[0mcorr\u001b[0m\u001b[0;34m(\u001b[0m\u001b[0;34m)\u001b[0m\u001b[0;34m.\u001b[0m\u001b[0mabs\u001b[0m\u001b[0;34m(\u001b[0m\u001b[0;34m)\u001b[0m\u001b[0;34m\u001b[0m\u001b[0;34m\u001b[0m\u001b[0m\n\u001b[1;32m      5\u001b[0m \u001b[0mmask\u001b[0m \u001b[0;34m=\u001b[0m \u001b[0mnp\u001b[0m\u001b[0;34m.\u001b[0m\u001b[0mtriu\u001b[0m\u001b[0;34m(\u001b[0m\u001b[0mnp\u001b[0m\u001b[0;34m.\u001b[0m\u001b[0mones_like\u001b[0m\u001b[0;34m(\u001b[0m\u001b[0mcorr_matrix\u001b[0m\u001b[0;34m,\u001b[0m \u001b[0mdtype\u001b[0m\u001b[0;34m=\u001b[0m\u001b[0mbool\u001b[0m\u001b[0;34m)\u001b[0m\u001b[0;34m)\u001b[0m\u001b[0;34m\u001b[0m\u001b[0;34m\u001b[0m\u001b[0m\n",
            "\u001b[0;31mNameError\u001b[0m: name 'df_rdkit' is not defined"
          ]
        }
      ]
    },
    {
      "cell_type": "code",
      "source": [
        "X = X_orig.drop(to_drop, axis=1)\n",
        "y = updated_df['TEPcorr']\n",
        "X.shape"
      ],
      "metadata": {
        "id": "uTOcZ-c453Rq",
        "colab": {
          "base_uri": "https://localhost:8080/",
          "height": 215
        },
        "outputId": "0f55e56c-ffe1-47b5-9086-4a1fd9ae7466"
      },
      "execution_count": null,
      "outputs": [
        {
          "output_type": "error",
          "ename": "NameError",
          "evalue": "ignored",
          "traceback": [
            "\u001b[0;31m---------------------------------------------------------------------------\u001b[0m",
            "\u001b[0;31mNameError\u001b[0m                                 Traceback (most recent call last)",
            "\u001b[0;32m<ipython-input-7-325bf4d2498d>\u001b[0m in \u001b[0;36m<cell line: 1>\u001b[0;34m()\u001b[0m\n\u001b[0;32m----> 1\u001b[0;31m \u001b[0mX\u001b[0m \u001b[0;34m=\u001b[0m \u001b[0mX_orig\u001b[0m\u001b[0;34m.\u001b[0m\u001b[0mdrop\u001b[0m\u001b[0;34m(\u001b[0m\u001b[0mto_drop\u001b[0m\u001b[0;34m,\u001b[0m \u001b[0maxis\u001b[0m\u001b[0;34m=\u001b[0m\u001b[0;36m1\u001b[0m\u001b[0;34m)\u001b[0m\u001b[0;34m\u001b[0m\u001b[0;34m\u001b[0m\u001b[0m\n\u001b[0m\u001b[1;32m      2\u001b[0m \u001b[0my\u001b[0m \u001b[0;34m=\u001b[0m \u001b[0mupdated_df\u001b[0m\u001b[0;34m[\u001b[0m\u001b[0;34m'TEPcorr'\u001b[0m\u001b[0;34m]\u001b[0m\u001b[0;34m\u001b[0m\u001b[0;34m\u001b[0m\u001b[0m\n\u001b[1;32m      3\u001b[0m \u001b[0mX\u001b[0m\u001b[0;34m.\u001b[0m\u001b[0mshape\u001b[0m\u001b[0;34m\u001b[0m\u001b[0;34m\u001b[0m\u001b[0m\n",
            "\u001b[0;31mNameError\u001b[0m: name 'X_orig' is not defined"
          ]
        }
      ]
    },
    {
      "cell_type": "code",
      "source": [
        "X.to_csv('X_full-FEATS.csv', index=None)"
      ],
      "metadata": {
        "id": "0WInUAoRSGi7"
      },
      "execution_count": null,
      "outputs": []
    },
    {
      "cell_type": "code",
      "source": [
        "X_train, X_test, y_train, y_test = train_test_split(X, y, test_size=0.1, random_state=12)\n",
        "X_train_2, X_val, y_train_2, y_val = train_test_split(X_train, y_train, test_size=0.1, random_state=12)"
      ],
      "metadata": {
        "id": "RH1cZPx9r1FS"
      },
      "execution_count": null,
      "outputs": []
    },
    {
      "cell_type": "code",
      "source": [
        "model = LGBMRegressor(random_state=12)\n",
        "\n",
        "model.fit(X_train, y_train)\n",
        "\n",
        "plotter(model, X_train, y_train, X_test, y_test)"
      ],
      "metadata": {
        "id": "3oMO2KlD89H_"
      },
      "execution_count": null,
      "outputs": []
    },
    {
      "cell_type": "code",
      "source": [],
      "metadata": {
        "id": "0T7Ap2519l8V"
      },
      "execution_count": null,
      "outputs": []
    },
    {
      "cell_type": "code",
      "source": [
        "def objective(trial, X_train=X_train, y_train=y_train):\n",
        "\n",
        "    train_x, test_x, train_y, test_y = train_test_split(X_train, y_train, test_size=0.1, random_state=42)\n",
        "    param = {\n",
        "        'metric': 'rmse',\n",
        "        'random_state': 12,\n",
        "        'n_estimators': 200,\n",
        "        'reg_alpha': trial.suggest_loguniform('reg_alpha', 1e-3, 10.0),\n",
        "        'reg_lambda': trial.suggest_loguniform('reg_lambda', 1e-3, 10.0),\n",
        "        'colsample_bytree': trial.suggest_categorical('colsample_bytree', [0.3,0.4,0.5,0.6,0.7,0.8,0.9, 1.0]),\n",
        "        'subsample': trial.suggest_categorical('subsample', [0.4,0.5,0.6,0.7,0.8,1.0]),\n",
        "        'learning_rate': trial.suggest_categorical('learning_rate', [0.006,0.008,0.01,0.014,0.017,0.02]),\n",
        "        'max_depth': trial.suggest_categorical('max_depth', [10,20,100]),\n",
        "        'num_leaves' : trial.suggest_int('num_leaves', 2, 1000),\n",
        "        'min_child_samples': trial.suggest_int('min_child_samples', 1, 300),\n",
        "        'cat_smooth' : trial.suggest_int('cat_smooth', 1, 100),\n",
        "        'max_bin' : trial.suggest_int('max_bin', 2, 255)\n",
        "    }\n",
        "    model = LGBMRegressor(**param)\n",
        "\n",
        "    model.fit(train_x,train_y,eval_set=[(test_x,test_y)],early_stopping_rounds=100,verbose=False)\n",
        "\n",
        "    preds = model.predict(test_x)\n",
        "\n",
        "    rmse = mean_squared_error(test_y, preds,squared=False)\n",
        "\n",
        "    return rmse\n",
        "\n",
        "study = optuna.create_study(direction='minimize')\n",
        "study.optimize(objective, n_trials=50)\n",
        "print('Number of finished trials:', len(study.trials))\n",
        "print('Best trial:', study.best_trial.params)"
      ],
      "metadata": {
        "id": "9ey1MZYMFxwf"
      },
      "execution_count": null,
      "outputs": []
    },
    {
      "cell_type": "code",
      "source": [
        "best_params = study.best_params\n",
        "\n",
        "print(best_params)"
      ],
      "metadata": {
        "id": "HGpFgh11KXtx"
      },
      "execution_count": null,
      "outputs": []
    },
    {
      "cell_type": "code",
      "source": [
        "model = LGBMRegressor(random_state=12, n_estimators=200, **best_params)\n",
        "\n",
        "model.fit(X_train, y_train)\n",
        "\n",
        "plotter(model, X_train, y_train, X_test, y_test)"
      ],
      "metadata": {
        "id": "DIXvbkBWFxwg"
      },
      "execution_count": null,
      "outputs": []
    },
    {
      "cell_type": "code",
      "source": [
        "model = LGBMRegressor(random_state=12, n_estimators=200, **best_params)\n",
        "\n",
        "test_learner(X_train, y_train, model)"
      ],
      "metadata": {
        "id": "ku9bPqX59l2u"
      },
      "execution_count": null,
      "outputs": []
    },
    {
      "cell_type": "code",
      "source": [
        "model.fit(X_train, y_train)\n",
        "\n",
        "#calculate permutation importance for testing data\n",
        "result_test = permutation_importance(\n",
        "    model, X_test, y_test, n_repeats=10, random_state=seed, n_jobs=-1, scoring='neg_root_mean_squared_error'\n",
        "    )\n",
        "\n",
        "sorted_importances_idx_test = result_test.importances_mean.argsort()\n",
        "importances_test = pd.DataFrame(\n",
        "    result_test.importances[sorted_importances_idx_test[-20:]].T,\n",
        "    columns=X.columns[sorted_importances_idx_test[-20:]],\n",
        ")\n",
        "\n",
        "#calculate permutation importance for training data\n",
        "result_train = permutation_importance(\n",
        "    model, X_train, y_train, n_repeats=10, random_state=seed, n_jobs=-1, scoring='neg_root_mean_squared_error'\n",
        ")\n",
        "\n",
        "sorted_importances_idx_train = result_train.importances_mean.argsort()\n",
        "importances_train = pd.DataFrame(\n",
        "    result_train.importances[sorted_importances_idx_train[-20:]].T,\n",
        "    columns=X.columns[sorted_importances_idx_train[-20:]],\n",
        ")\n",
        "\n",
        "f, axs = plt.subplots(1,2,figsize=(15,5))\n",
        "\n",
        "importances_test.plot.box(vert=False, whis=10, ax = axs[0])\n",
        "axs[0].set_title(\"Permutation Importances (test set)\")\n",
        "axs[0].axvline(x=0, color=\"k\", linestyle=\"--\")\n",
        "axs[0].set_xlabel(\"Increase in RMSE (eV)\")\n",
        "axs[0].figure.tight_layout()\n",
        "\n",
        "importances_train.plot.box(vert=False, whis=10, ax = axs[1])\n",
        "axs[1].set_title(\"Permutation Importances (train set)\")\n",
        "axs[1].axvline(x=0, color=\"k\", linestyle=\"--\")\n",
        "axs[1].set_xlabel(\"Increase in RMSE (eV)\")\n",
        "axs[1].figure.tight_layout()"
      ],
      "metadata": {
        "id": "mh4OH0Z_Bgbg"
      },
      "execution_count": null,
      "outputs": []
    },
    {
      "cell_type": "code",
      "source": [
        "X_reduced = pd.DataFrame()\n",
        "X_reduced['BCUT2D_MWHI'] = X['VSA_EState3']\n",
        "X_reduced['EState_VSA9'] = X['EState_VSA9']\n",
        "X_reduced['BCUT2D_CHGLO'] = X['BCUT2D_CHGLO']\n",
        "X_reduced['VSA_EState1'] = X['VSA_EState1']\n",
        "X_reduced['Ipc'] = X['Ipc']\n",
        "X_reduced['BCUT2D_MRHI'] = X['BCUT2D_MRHI']\n",
        "X_reduced['SlogP_VSA12'] = X['SlogP_VSA12']\n",
        "X_reduced['EState_VSA1'] = X['EState_VSA1']\n",
        "X_reduced['VSA_EState3'] = X['VSA_EState3']\n",
        "X_reduced['VSA_EState10'] = X['VSA_EState10']\n",
        "X_reduced['fr_halogen'] = X['fr_halogen']\n",
        "X_reduced['EState_VSA10'] = X['EState_VSA10']\n",
        "X_reduced['BCUT2D_LOGPHI'] = X['BCUT2D_LOGPHI']\n",
        "X_reduced['VSA_EState8'] = X['VSA_EState8']\n",
        "X_reduced['BCUT2D_CHGHI'] = X['BCUT2D_CHGHI']\n",
        "X_reduced['MolMR'] = X['MolMR']\n",
        "X_reduced['MaxPartialCharge'] = X['MaxPartialCharge']\n",
        "X_reduced['Kappa1'] = X['Kappa1']\n",
        "X_reduced['NumRotatableBonds'] = X['NumRotatableBonds']\n",
        "X_reduced['SlogP_VSA6'] = X['SlogP_VSA6']"
      ],
      "metadata": {
        "id": "GjFkwqHkMmo4"
      },
      "execution_count": null,
      "outputs": []
    },
    {
      "cell_type": "code",
      "source": [
        "X_reduced.to_csv('X_reduced-FEATS.csv', index=None)"
      ],
      "metadata": {
        "id": "nQYfKfRCRvIT"
      },
      "execution_count": null,
      "outputs": []
    },
    {
      "cell_type": "code",
      "source": [
        "X_train, X_test, y_train, y_test = train_test_split(X_reduced, y, test_size=0.1, random_state=seed)\n",
        "X_train_2, X_val, y_train_2, y_tval = train_test_split(X_train, y_train, test_size=0.1, random_state=seed)"
      ],
      "metadata": {
        "id": "mI5VCOI8Mmlu"
      },
      "execution_count": null,
      "outputs": []
    },
    {
      "cell_type": "code",
      "source": [
        "def objective(trial, X_train=X_train, y_train=y_train):\n",
        "\n",
        "    train_x, test_x, train_y, test_y = train_test_split(X_train, y_train, test_size=0.1, random_state=42)\n",
        "    param = {\n",
        "        'metric': 'rmse',\n",
        "        'random_state': 12,\n",
        "        'n_estimators': 200,\n",
        "        'reg_alpha': trial.suggest_loguniform('reg_alpha', 1e-3, 10.0),\n",
        "        'reg_lambda': trial.suggest_loguniform('reg_lambda', 1e-3, 10.0),\n",
        "        'colsample_bytree': trial.suggest_categorical('colsample_bytree', [0.3,0.4,0.5,0.6,0.7,0.8,0.9, 1.0]),\n",
        "        'subsample': trial.suggest_categorical('subsample', [0.4,0.5,0.6,0.7,0.8,1.0]),\n",
        "        'learning_rate': trial.suggest_categorical('learning_rate', [0.006,0.008,0.01,0.014,0.017,0.02]),\n",
        "        'max_depth': trial.suggest_categorical('max_depth', [10,20,100]),\n",
        "        'num_leaves' : trial.suggest_int('num_leaves', 2, 1000),\n",
        "        'min_child_samples': trial.suggest_int('min_child_samples', 1, 300),\n",
        "        'cat_smooth' : trial.suggest_int('cat_smooth', 1, 100),\n",
        "        'max_bin' : trial.suggest_int('max_bin', 2, 255)\n",
        "    }\n",
        "    model = LGBMRegressor(**param)\n",
        "\n",
        "    model.fit(train_x,train_y,eval_set=[(test_x,test_y)],early_stopping_rounds=100,verbose=False)\n",
        "\n",
        "    preds = model.predict(test_x)\n",
        "\n",
        "    rmse = mean_squared_error(test_y, preds,squared=False)\n",
        "\n",
        "    return rmse\n",
        "\n",
        "study = optuna.create_study(direction='minimize')\n",
        "study.optimize(objective, n_trials=50)\n",
        "print('Number of finished trials:', len(study.trials))\n",
        "print('Best trial:', study.best_trial.params)"
      ],
      "metadata": {
        "id": "1GbwFJ_HMmiN"
      },
      "execution_count": null,
      "outputs": []
    },
    {
      "cell_type": "code",
      "source": [],
      "metadata": {
        "id": "Y_gUD3vlOl46"
      },
      "execution_count": null,
      "outputs": []
    },
    {
      "cell_type": "code",
      "source": [
        "best_params = study.best_params\n",
        "\n",
        "print(best_params)"
      ],
      "metadata": {
        "id": "kmpYDw0DOmQS"
      },
      "execution_count": null,
      "outputs": []
    },
    {
      "cell_type": "code",
      "source": [
        "model = LGBMRegressor(random_state=12, n_estimators=500, **best_params)\n",
        "\n",
        "model.fit(X_train, y_train)\n",
        "\n",
        "plotter(model, X_train, y_train, X_test, y_test)"
      ],
      "metadata": {
        "id": "wr6KbOWKOmQT"
      },
      "execution_count": null,
      "outputs": []
    },
    {
      "cell_type": "code",
      "source": [
        "model = LGBMRegressor(random_state=12, n_estimators=500, **best_params)\n",
        "\n",
        "test_learner(X_train, y_train, model)"
      ],
      "metadata": {
        "id": "v29naPt5Mmce"
      },
      "execution_count": null,
      "outputs": []
    },
    {
      "cell_type": "code",
      "source": [
        "X_reduced.to_csv('X_reduced.csv')"
      ],
      "metadata": {
        "id": "vjp-MA3HMmZM",
        "colab": {
          "base_uri": "https://localhost:8080/",
          "height": 179
        },
        "outputId": "d2222f03-5c22-4ef3-e4d8-b6825720af1e"
      },
      "execution_count": null,
      "outputs": [
        {
          "output_type": "error",
          "ename": "NameError",
          "evalue": "ignored",
          "traceback": [
            "\u001b[0;31m---------------------------------------------------------------------------\u001b[0m",
            "\u001b[0;31mNameError\u001b[0m                                 Traceback (most recent call last)",
            "\u001b[0;32m<ipython-input-8-7df6015f7c96>\u001b[0m in \u001b[0;36m<cell line: 1>\u001b[0;34m()\u001b[0m\n\u001b[0;32m----> 1\u001b[0;31m \u001b[0mX_reduced\u001b[0m\u001b[0;34m.\u001b[0m\u001b[0mto_csv\u001b[0m\u001b[0;34m(\u001b[0m\u001b[0;34m'X_reduced.csv'\u001b[0m\u001b[0;34m)\u001b[0m\u001b[0;34m\u001b[0m\u001b[0;34m\u001b[0m\u001b[0m\n\u001b[0m",
            "\u001b[0;31mNameError\u001b[0m: name 'X_reduced' is not defined"
          ]
        }
      ]
    },
    {
      "cell_type": "code",
      "source": [
        "shap.initjs()\n",
        "explainer = shap.TreeExplainer(model)\n",
        "shap_values = explainer.shap_values(X_train)\n",
        "\n",
        "shap.summary_plot(shap_values, features=X_train, feature_names=X.columns)"
      ],
      "metadata": {
        "id": "GLQ1C1mvBgYz"
      },
      "execution_count": null,
      "outputs": []
    },
    {
      "cell_type": "code",
      "source": [
        "from sklearn.model_selection import learning_curve\n",
        "\n",
        "train_sizes, train_scores, test_scores = learning_curve(model, X_reduced, y, cv=5, scoring='neg_root_mean_squared_error', n_jobs=-1,\n",
        "                                                        train_sizes=np.linspace(0.01, 1.0, 50))\n",
        "\n",
        "train_mean = -1 * np.mean(train_scores, axis=1)\n",
        "train_std = -1 * np.std(train_scores, axis=1)\n",
        "\n",
        "test_mean = -1 * np.mean(test_scores, axis=1)\n",
        "test_std = -1 * np.std(test_scores, axis=1)\n",
        "\n",
        "plt.subplots(1, figsize=(10,10))\n",
        "plt.plot(train_sizes, train_mean, '--', color=\"#111111\",  label=\"Training score\")\n",
        "plt.plot(train_sizes, test_mean, color=\"#111111\", label=\"Cross-validation score\")\n",
        "\n",
        "plt.fill_between(train_sizes, train_mean - train_std, train_mean + train_std, color=\"#DDDDDD\")\n",
        "plt.fill_between(train_sizes, test_mean - test_std, test_mean + test_std, color=\"#DDDDDD\")\n",
        "\n",
        "plt.xlabel(\"Training Set Size\"), plt.ylabel(\"RMSE (cm$^{-1}$)\"), plt.legend(loc=\"best\")\n",
        "plt.tight_layout()\n",
        "plt.show()"
      ],
      "metadata": {
        "id": "39DhmK4EGRSv"
      },
      "execution_count": null,
      "outputs": []
    },
    {
      "cell_type": "code",
      "source": [],
      "metadata": {
        "id": "KUpFXxh9GRPo"
      },
      "execution_count": null,
      "outputs": []
    },
    {
      "cell_type": "code",
      "source": [],
      "metadata": {
        "id": "iEU_OWGeGRMx"
      },
      "execution_count": null,
      "outputs": []
    },
    {
      "cell_type": "code",
      "source": [
        "import sklearn_json as skljson\n",
        "from sklearn.ensemble import GradientBoostingRegressor\n",
        "\n",
        "model = RandomForestRegressor(max_depth=None, max_features='sqrt', n_estimators=500).fit(X_train, y_train)\n",
        "\n",
        "#skljson.to_json(model, \"RandomForest_TEPid.json\")"
      ],
      "metadata": {
        "id": "K0eBX-b3wI8U"
      },
      "execution_count": null,
      "outputs": []
    },
    {
      "cell_type": "code",
      "source": [
        "import pickle\n",
        "with open('LGBMReg_20230715.pkl', 'wb') as f:\n",
        "  pickle.dump(model,f)"
      ],
      "metadata": {
        "id": "YA-VfNVQJtwH"
      },
      "execution_count": null,
      "outputs": []
    },
    {
      "cell_type": "code",
      "source": [
        "with open('GBReg_20230303.pkl', 'rb') as f:\n",
        "    clf2 = pickle.load(f)"
      ],
      "metadata": {
        "id": "poDOgt_BJuIG"
      },
      "execution_count": null,
      "outputs": []
    },
    {
      "cell_type": "code",
      "source": [],
      "metadata": {
        "id": "IueITV1vKcxu"
      },
      "execution_count": null,
      "outputs": []
    },
    {
      "cell_type": "code",
      "source": [],
      "metadata": {
        "id": "IrUXHkK4Kc0q"
      },
      "execution_count": null,
      "outputs": []
    },
    {
      "cell_type": "code",
      "source": [],
      "metadata": {
        "id": "0L7aBhNwKc3Z"
      },
      "execution_count": null,
      "outputs": []
    },
    {
      "cell_type": "code",
      "source": [
        "model.get_params()"
      ],
      "metadata": {
        "id": "qJgg7gN6x7aw"
      },
      "execution_count": null,
      "outputs": []
    },
    {
      "cell_type": "code",
      "source": [
        "from sklearn.tree import DecisionTreeRegressor\n",
        "\n",
        "def serialize_tree(tree):\n",
        "    serialized_tree = tree.__getstate__()\n",
        "    # serialized_tree['nodes_dtype'] = serialized_tree['nodes'].dtype\n",
        "    dtypes = serialized_tree['nodes'].dtype\n",
        "    serialized_tree['nodes'] = serialized_tree['nodes'].tolist()\n",
        "    serialized_tree['values'] = serialized_tree['values'].tolist()\n",
        "\n",
        "    return serialized_tree, dtypes\n",
        "\n",
        "def serialize_decision_tree_regressor(model):\n",
        "    tree, dtypes = serialize_tree(model.tree_)\n",
        "    serialized_model = {\n",
        "        'meta': 'decision-tree-regression',\n",
        "        'feature_importances_': model.feature_importances_.tolist(),\n",
        "        'max_features_': model.max_features_,\n",
        "        'n_features_': model.n_features_,\n",
        "        'n_outputs_': model.n_outputs_,\n",
        "        'tree_': tree\n",
        "    }\n",
        "\n",
        "    # serialized_model.\n",
        "\n",
        "    tree_dtypes = []\n",
        "    for i in range(0, len(dtypes)):\n",
        "        tree_dtypes.append(dtypes[i].str)\n",
        "\n",
        "    serialized_model['tree_']['nodes_dtype'] = tree_dtypes\n",
        "\n",
        "    return serialized_model"
      ],
      "metadata": {
        "id": "yy41w2m5zxed"
      },
      "execution_count": null,
      "outputs": []
    },
    {
      "cell_type": "code",
      "source": [
        "def serialize_random_forest_regressor(model):\n",
        "\n",
        "    serialized_model = {\n",
        "        'meta': 'rf-regression',\n",
        "        'max_depth': model.max_depth,\n",
        "        'min_samples_split': model.min_samples_split,\n",
        "        'min_samples_leaf': model.min_samples_leaf,\n",
        "        'min_weight_fraction_leaf': model.min_weight_fraction_leaf,\n",
        "        'max_features': model.max_features,\n",
        "        'max_leaf_nodes': model.max_leaf_nodes,\n",
        "        'min_impurity_decrease': model.min_impurity_decrease,\n",
        "        'n_features_': model.n_features_,\n",
        "        'n_outputs_': model.n_outputs_,\n",
        "        'estimators_': [serialize_decision_tree_regressor(decision_tree) for decision_tree in model.estimators_],\n",
        "        'params': model.get_params()\n",
        "    }\n",
        "\n",
        "    if 'oob_score_' in model.__dict__:\n",
        "        serialized_model['oob_score_'] = model.oob_score_\n",
        "    if 'oob_decision_function_' in model.__dict__:\n",
        "        serialized_model['oob_prediction_'] = model.oob_prediction_.tolist()\n",
        "\n",
        "    return serialized_model"
      ],
      "metadata": {
        "id": "kWyPO5Nx0nDz"
      },
      "execution_count": null,
      "outputs": []
    },
    {
      "cell_type": "code",
      "source": [
        "serialize_random_forest_regressor(model)"
      ],
      "metadata": {
        "id": "Nibgzpig0zju"
      },
      "execution_count": null,
      "outputs": []
    },
    {
      "cell_type": "code",
      "source": [
        "import json\n",
        "\n",
        "def to_json(model, model_name):\n",
        "  with open(model_name, 'w') as model_json:\n",
        "    json.dump(serialize_random_forest_regressor(model), model_json)\n",
        "\n",
        "to_json(model, \"RandomForest_TEPid.json\")"
      ],
      "metadata": {
        "id": "9CNLJRHw0_1b"
      },
      "execution_count": null,
      "outputs": []
    },
    {
      "cell_type": "code",
      "source": [],
      "metadata": {
        "id": "LMSFSveh2FTE"
      },
      "execution_count": null,
      "outputs": []
    }
  ]
}